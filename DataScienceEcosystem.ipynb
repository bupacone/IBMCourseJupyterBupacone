{
 "cells": [
  {
   "cell_type": "markdown",
   "id": "117034d6-c500-452a-bdf8-a11c8f1c7781",
   "metadata": {
    "tags": []
   },
   "source": [
    "# Data Science Tools and Ecosystem"
   ]
  },
  {
   "cell_type": "markdown",
   "id": "5361ff18-cc79-472d-ab1b-06b83eac0484",
   "metadata": {},
   "source": [
    "In this notebook, Data Science Tools and Ecosystem are summarized."
   ]
  },
  {
   "cell_type": "markdown",
   "id": "b06b7457-9e5f-4b50-9524-268eafdecfaf",
   "metadata": {
    "tags": []
   },
   "source": [
    "Some of the popular languages that Data Scientists use are:"
   ]
  },
  {
   "cell_type": "markdown",
   "id": "4d2da5a5-3acd-4b8b-8460-3b042a460a34",
   "metadata": {
    "tags": []
   },
   "source": [
    "Some of the popular languages that Data Scientists use are:\n",
    "1. Python\n",
    "2. R\n",
    "3. Julia\n",
    "4. SQL\n",
    "5. Scala"
   ]
  },
  {
   "cell_type": "markdown",
   "id": "a68b4b2e-c4e7-4b2e-a315-4dc502829baa",
   "metadata": {
    "tags": []
   },
   "source": [
    "**Objectives:**\n",
    "- matplotlib for demonstrate data visualization techniques using .\n",
    "- discuss best practices for data cleaning and preprocessing.\n",
    "- scikit-learn\n",
    "- tensorFlow"
   ]
  },
  {
   "cell_type": "markdown",
   "id": "54969fc5-e650-4349-9478-f3a3e7beadd7",
   "metadata": {
    "tags": []
   },
   "source": [
    "## Development Environments\n",
    "|**Data Science Tools** |\n",
    "|-|\n",
    "|Jupyter Notebook|\n",
    "|RStudio|\n",
    "|Visual Studio Code|\n",
    "|Spyder|"
   ]
  },
  {
   "cell_type": "markdown",
   "id": "83783de9-d5a2-46ca-82a5-49a57bf5dc71",
   "metadata": {},
   "source": [
    "### Below are a few examples of evaluating arithmetic expressions in Python."
   ]
  },
  {
   "cell_type": "code",
   "execution_count": 1,
   "id": "9c41e0ac-204d-4cad-b2ac-999596b3c6bb",
   "metadata": {
    "tags": []
   },
   "outputs": [
    {
     "data": {
      "text/plain": [
       "17"
      ]
     },
     "execution_count": 1,
     "metadata": {},
     "output_type": "execute_result"
    }
   ],
   "source": [
    "#This a simple arithmetic expression to mutiply then add integers\n",
    "(3*4)+5"
   ]
  },
  {
   "cell_type": "code",
   "execution_count": 4,
   "id": "65e594f2-6eb4-4c44-8257-94dc0ecec4a5",
   "metadata": {
    "tags": []
   },
   "outputs": [
    {
     "name": "stdout",
     "output_type": "stream",
     "text": [
      "200 minutes equal to 3.3333333333333335 hours.\n"
     ]
    }
   ],
   "source": [
    "#This will convert 200 minutes to hours by diving by 60\n",
    "minutes = 200\n",
    "hours = minutes/60\n",
    "print(minutes, \"minutes equal to\", hours, \"hours.\")"
   ]
  },
  {
   "cell_type": "markdown",
   "id": "4519036a-4ed2-4512-8e08-3b65f4ab6c5b",
   "metadata": {},
   "source": [
    "## Author\n",
    "Burak Sahin"
   ]
  },
  {
   "cell_type": "code",
   "execution_count": null,
   "id": "2ed2aaa1-fd5e-4374-8e69-1fb944e06a1f",
   "metadata": {},
   "outputs": [],
   "source": []
  }
 ],
 "metadata": {
  "kernelspec": {
   "display_name": "Python",
   "language": "python",
   "name": "conda-env-python-py"
  },
  "language_info": {
   "codemirror_mode": {
    "name": "ipython",
    "version": 3
   },
   "file_extension": ".py",
   "mimetype": "text/x-python",
   "name": "python",
   "nbconvert_exporter": "python",
   "pygments_lexer": "ipython3",
   "version": "3.7.12"
  }
 },
 "nbformat": 4,
 "nbformat_minor": 5
}
